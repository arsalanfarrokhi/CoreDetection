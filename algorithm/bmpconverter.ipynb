{
 "cells": [
  {
   "cell_type": "code",
   "execution_count": 2,
   "metadata": {},
   "outputs": [],
   "source": [
    "import os\n",
    "import cv2\n",
    "import numpy\n",
    "path = r'.\\DBII'\n",
    "target = r'.\\DBII_short'\n",
    "\n",
    "for img in os.listdir(path):\n",
    "    if(img[2:] not in (\"1_1.jpg\", \"2_1.jpg\")):\n",
    "        continue\n",
    "    image_path = path + r'\\\\' + img\n",
    "    \n",
    "    image = cv2.imread(image_path, cv2.COLOR_BGR2GRAY)\n",
    "    cv2.waitKey()\n",
    "    cv2.destroyAllWindows()\n",
    "    cv2.imwrite(target + r'\\\\' + f'{img[:-4]}.bmp', image)"
   ]
  }
 ],
 "metadata": {
  "kernelspec": {
   "display_name": "Python 3",
   "language": "python",
   "name": "python3"
  },
  "language_info": {
   "codemirror_mode": {
    "name": "ipython",
    "version": 3
   },
   "file_extension": ".py",
   "mimetype": "text/x-python",
   "name": "python",
   "nbconvert_exporter": "python",
   "pygments_lexer": "ipython3",
   "version": "3.11.3"
  },
  "orig_nbformat": 4
 },
 "nbformat": 4,
 "nbformat_minor": 2
}
